{
  "cells": [
    {
      "cell_type": "markdown",
      "id": "42289889-bd57-434e-9637-d3e354756316",
      "metadata": {
        "id": "42289889-bd57-434e-9637-d3e354756316"
      },
      "source": [
        "<center> <img src = https://raw.githubusercontent.com/AndreyRysistov/DatasetsForPandas/main/hh%20label.jpg alt=\"drawing\" style=\"width:400px;\">"
      ]
    },
    {
      "attachments": {},
      "cell_type": "markdown",
      "id": "829cb75b-f14e-4ba8-9195-7ba929a7d656",
      "metadata": {
        "id": "829cb75b-f14e-4ba8-9195-7ba929a7d656",
        "tags": []
      },
      "source": [
        "# <center> Project: Data Understanding vacancy from HeadHunter\n",
        "   "
      ]
    },
    {
      "attachments": {},
      "cell_type": "markdown",
      "id": "12a34730",
      "metadata": {},
      "source": [
        "### Импорт необходимых библиотек"
      ]
    },
    {
      "cell_type": "code",
      "execution_count": 32,
      "id": "dccfde33-2452-43fb-a8a5-5c6ebc02a71d",
      "metadata": {
        "id": "dccfde33-2452-43fb-a8a5-5c6ebc02a71d"
      },
      "outputs": [],
      "source": [
        "# импорт необходимых библиотек\n",
        "import pandas as pd # для работы с данными\n",
        "import psycopg2 # для подключения к Postgresql\n",
        "import lxml # для работы с ссылками\n",
        "import json # для работы с json файлами \n",
        "import requests # для получения данных с сайта\n",
        "import warnings # для исключения вывода UserWarning в ответах\n",
        "warnings.filterwarnings(\"ignore\", category=UserWarning) "
      ]
    },
    {
      "cell_type": "code",
      "execution_count": 33,
      "id": "46e62b50",
      "metadata": {},
      "outputs": [],
      "source": [
        "# файл с данными для подключения - connection.json\n",
        "with open('connection.json', 'r') as f:\n",
        "    param = json.load(f)"
      ]
    },
    {
      "cell_type": "code",
      "execution_count": 34,
      "id": "oVKH4ehvf8Ay",
      "metadata": {
        "id": "oVKH4ehvf8Ay"
      },
      "outputs": [],
      "source": [
        "# подключение к базе данных\n",
        "connection = psycopg2.connect(\n",
        "    dbname=param['DBNAME'],\n",
        "    user=param['USER'],\n",
        "    host=param['HOST'],\n",
        "    password=param['PASSWORD'],\n",
        "    port=param['PORT']\n",
        ")"
      ]
    },
    {
      "attachments": {},
      "cell_type": "markdown",
      "id": "0dc6476b-7a00-44f1-ac93-6e3baed33a29",
      "metadata": {
        "id": "0dc6476b-7a00-44f1-ac93-6e3baed33a29"
      },
      "source": [
        "# Предварительный анализ данных"
      ]
    },
    {
      "attachments": {},
      "cell_type": "markdown",
      "id": "889782b6-8d1c-410e-8920-e57f27917c64",
      "metadata": {
        "id": "889782b6-8d1c-410e-8920-e57f27917c64"
      },
      "source": [
        "1. Количество вакансий базе. "
      ]
    },
    {
      "cell_type": "code",
      "execution_count": 35,
      "id": "bc39e68e-ed02-4ee2-9235-7258a2f867a8",
      "metadata": {
        "id": "bc39e68e-ed02-4ee2-9235-7258a2f867a8"
      },
      "outputs": [
        {
          "name": "stdout",
          "output_type": "stream",
          "text": [
            "49197 вакансий есть в базе\n"
          ]
        }
      ],
      "source": [
        "query_3_1 = f'''select count(id)||' вакансий есть в базе' str\n",
        "           from vacancies\n",
        "        '''\n",
        "df = pd.read_sql_query(query_3_1, connection)\n",
        "print(df['str'][0])"
      ]
    },
    {
      "attachments": {},
      "cell_type": "markdown",
      "id": "b583485d-1f9e-494e-ada4-80ffff7c53d6",
      "metadata": {
        "id": "b583485d-1f9e-494e-ada4-80ffff7c53d6"
      },
      "source": [
        "2. Количество работодателей. "
      ]
    },
    {
      "cell_type": "code",
      "execution_count": 36,
      "id": "5408c52c-3407-4a63-b25b-1aafa2322d28",
      "metadata": {
        "id": "5408c52c-3407-4a63-b25b-1aafa2322d28"
      },
      "outputs": [
        {
          "name": "stdout",
          "output_type": "stream",
          "text": [
            "23501 работодателей в базе\n"
          ]
        }
      ],
      "source": [
        "query_3_2 = f'''select count(id)||' работодателей в базе' str\n",
        "           from EMPLOYERS\n",
        "        '''\n",
        "df = pd.read_sql_query(query_3_2, connection)\n",
        "print(df['str'][0])"
      ]
    },
    {
      "attachments": {},
      "cell_type": "markdown",
      "id": "a2bfff1f-c975-4bf6-84be-2185d79dcb76",
      "metadata": {
        "id": "a2bfff1f-c975-4bf6-84be-2185d79dcb76"
      },
      "source": [
        "3. Количество регионов."
      ]
    },
    {
      "cell_type": "code",
      "execution_count": 37,
      "id": "1m8QJwBYhey6",
      "metadata": {
        "id": "1m8QJwBYhey6"
      },
      "outputs": [
        {
          "name": "stdout",
          "output_type": "stream",
          "text": [
            "1362 регионов в базе\n"
          ]
        }
      ],
      "source": [
        "query_3_3 = f'''select count(id)||' регионов в базе' str\n",
        "           from areas\n",
        "        '''\n",
        "df = pd.read_sql_query(query_3_3, connection)\n",
        "print(df['str'][0])"
      ]
    },
    {
      "attachments": {},
      "cell_type": "markdown",
      "id": "41bb59f3-53cc-4a67-a5bc-bedf573955e4",
      "metadata": {
        "id": "41bb59f3-53cc-4a67-a5bc-bedf573955e4"
      },
      "source": [
        "4. Посчитать с помощью запроса количество сфер деятельности в базе (таблица industries)."
      ]
    },
    {
      "cell_type": "code",
      "execution_count": 38,
      "id": "d286cf4c-707b-4cd2-9190-7ab3587d04a1",
      "metadata": {
        "id": "d286cf4c-707b-4cd2-9190-7ab3587d04a1"
      },
      "outputs": [
        {
          "name": "stdout",
          "output_type": "stream",
          "text": [
            "294 сфер деятельности в базе\n"
          ]
        }
      ],
      "source": [
        "query_3_4 = f'''select count(id)||' сфер деятельности в базе' str\n",
        "           from industries\n",
        "        '''\n",
        "df = pd.read_sql_query(query_3_4, connection)\n",
        "print(df['str'][0])"
      ]
    },
    {
      "cell_type": "markdown",
      "id": "9a8a2181-6914-448b-85f1-38f5f18b8a93",
      "metadata": {
        "id": "9a8a2181-6914-448b-85f1-38f5f18b8a93"
      },
      "source": [
        "***"
      ]
    },
    {
      "cell_type": "code",
      "execution_count": 39,
      "id": "79e3de2d",
      "metadata": {},
      "outputs": [
        {
          "name": "stdout",
          "output_type": "stream",
          "text": [
            "2.1  вакансий в среденем на одного работодателя\n",
            "36.1  вакансий в среденем на каждый регион\n",
            "36.1  вакансий в среденем на каждый регион\n"
          ]
        }
      ],
      "source": [
        "print(round(49197/23501, 1), ' вакансий в среденем на одного работодателя')\n",
        "print(round(49197/1362, 1), ' вакансий в среденем на каждый регион')\n",
        "print(round(49197/1362, 1), ' вакансий в среденем на каждый регион')"
      ]
    },
    {
      "attachments": {},
      "cell_type": "markdown",
      "id": "b60eed7a",
      "metadata": {},
      "source": [
        "### Выводы по предварительному анализу данных:\n",
        "\n",
        "В анализируемой базе данных:\n",
        "49197 вакансий, 23501 работодателей, 1362 регионов, 294 сфер деятельности.\n",
        "\n",
        "По предварительным грубым подсчётам можно сказать, что в среднем каждый работодатель публикует две вакансии, а в каждом регионе около 36 вакансий. \n",
        "Но нужно учитывать населённость каждого региона и его экономическое развитие, чтобы точнее вычислить средние показатели по каждому региону.\n",
        "\n"
      ]
    },
    {
      "attachments": {},
      "cell_type": "markdown",
      "id": "8d62a9f3-f64e-4fe7-bdac-c4dffa16155e",
      "metadata": {
        "id": "8d62a9f3-f64e-4fe7-bdac-c4dffa16155e"
      },
      "source": [
        "# Детальный анализ вакансий"
      ]
    },
    {
      "attachments": {},
      "cell_type": "markdown",
      "id": "93053d3d-b284-481a-9cf7-012d7014c0e0",
      "metadata": {
        "id": "93053d3d-b284-481a-9cf7-012d7014c0e0"
      },
      "source": [
        "1. Cколько (cnt) вакансий в каждом регионе (area)."
      ]
    },
    {
      "cell_type": "code",
      "execution_count": 40,
      "id": "3f069da6-fdc9-4ae7-b514-fafe2675efd3",
      "metadata": {
        "id": "3f069da6-fdc9-4ae7-b514-fafe2675efd3"
      },
      "outputs": [
        {
          "name": "stdout",
          "output_type": "stream",
          "text": [
            "           area  cnt\n",
            "         Москва 5333\n",
            "Санкт-Петербург 2851\n",
            "          Минск 2112\n",
            "    Новосибирск 2006\n",
            "         Алматы 1892\n"
          ]
        }
      ],
      "source": [
        "query_4_1 = f'''select a.name area, count(v.id) cnt\n",
        "           from areas a\n",
        "           join vacancies v on a.id = v.area_id\n",
        "           group by area\n",
        "           order by cnt DESC\n",
        "           limit 5\n",
        "        '''\n",
        "df = pd.read_sql_query(query_4_1, connection)\n",
        "print(df.to_string(index=False))"
      ]
    },
    {
      "attachments": {},
      "cell_type": "markdown",
      "id": "4266f0b6-1646-492a-88b4-2f6a46502135",
      "metadata": {
        "id": "4266f0b6-1646-492a-88b4-2f6a46502135"
      },
      "source": [
        "2. Количество вакансий, где заполнено хотя бы одно из двух полей с зарплатой."
      ]
    },
    {
      "cell_type": "code",
      "execution_count": 41,
      "id": "0c44b350-72eb-4d65-8b54-a1fc449ba9fd",
      "metadata": {
        "id": "0c44b350-72eb-4d65-8b54-a1fc449ba9fd"
      },
      "outputs": [
        {
          "name": "stdout",
          "output_type": "stream",
          "text": [
            "24073 вакансий, где заполнено хотя бы одно из двух полей с зарплатой.\n"
          ]
        }
      ],
      "source": [
        "query_4_2 = f'''select count(id)||' вакансий, где заполнено хотя бы одно из двух полей с зарплатой.' str\n",
        "           from  vacancies\n",
        "           where salary_from is not null or salary_to is not null\n",
        "        '''\n",
        "df = pd.read_sql_query(query_4_2, connection)\n",
        "print(df['str'][0])"
      ]
    },
    {
      "attachments": {},
      "cell_type": "markdown",
      "id": "635c4d5d-f323-4c66-b428-50a088120aa0",
      "metadata": {
        "id": "635c4d5d-f323-4c66-b428-50a088120aa0"
      },
      "source": [
        "3.Cредние значения для нижней и верхней границы зарплатной вилки."
      ]
    },
    {
      "cell_type": "code",
      "execution_count": 42,
      "id": "603cdbe4-0ec3-4106-8eaf-c73fcdd29165",
      "metadata": {
        "id": "603cdbe4-0ec3-4106-8eaf-c73fcdd29165"
      },
      "outputs": [
        {
          "name": "stdout",
          "output_type": "stream",
          "text": [
            "71065  нижняя граница, 110537 верхняя граница по зарплате.\n"
          ]
        }
      ],
      "source": [
        "query_4_3 = f'''select avg(salary_from) as from, \n",
        "           avg(salary_to) as to\n",
        "           from  vacancies\n",
        "        '''\n",
        "df = pd.read_sql_query(query_4_3, connection)\n",
        "print(f\"{round(df['from'][0])}  нижняя граница, {round(df['to'][0])} верхняя граница по зарплате.\")"
      ]
    },
    {
      "attachments": {},
      "cell_type": "markdown",
      "id": "f3fdaec9-5fd3-4260-9cf5-1d7406b628a5",
      "metadata": {
        "id": "f3fdaec9-5fd3-4260-9cf5-1d7406b628a5"
      },
      "source": [
        "4. Количество вакансий для каждого сочетания типа рабочего графика (schedule) и типа трудоустройства (employment), используемого в вакансиях.\n"
      ]
    },
    {
      "cell_type": "code",
      "execution_count": 43,
      "id": "1ea710ec-871b-431e-9462-c7d0fd87011b",
      "metadata": {
        "id": "1ea710ec-871b-431e-9462-c7d0fd87011b"
      },
      "outputs": [
        {
          "name": "stdout",
          "output_type": "stream",
          "text": [
            "Количество вакансий для каждого сочетания типа рабочего графика и типа трудоустройства:\n",
            "           schedule           employment  count\n",
            "0       Полный день     Полная занятость  35367\n",
            "1  Удаленная работа     Полная занятость   7802\n",
            "2     Гибкий график     Полная занятость   1593\n",
            "3  Удаленная работа  Частичная занятость   1312\n",
            "4    Сменный график     Полная занятость    940\n"
          ]
        }
      ],
      "source": [
        "query_4_4 = f'''select v1.schedule, v1.employment, count(v1.employment) count\n",
        "           from  vacancies v1\n",
        "           group by v1.schedule, v1.employment\n",
        "           order by count desc\n",
        "        '''\n",
        "df = pd.read_sql_query(query_4_4, connection)\n",
        "print('Количество вакансий для каждого сочетания типа рабочего графика и типа трудоустройства:')\n",
        "print(df.head())"
      ]
    },
    {
      "attachments": {},
      "cell_type": "markdown",
      "id": "0136ffee-0ead-4a6b-b608-61d1c753a438",
      "metadata": {
        "id": "0136ffee-0ead-4a6b-b608-61d1c753a438"
      },
      "source": [
        "5. Значения поля Требуемый опыт работы (experience) в порядке возрастания количества вакансий, в которых указан данный вариант опыта. "
      ]
    },
    {
      "cell_type": "code",
      "execution_count": 44,
      "id": "5b3a8e79-f7ab-4008-b767-12aea3a205ea",
      "metadata": {
        "id": "5b3a8e79-f7ab-4008-b767-12aea3a205ea"
      },
      "outputs": [
        {
          "name": "stdout",
          "output_type": "stream",
          "text": [
            "           experience  count\n",
            "0         Более 6 лет   1337\n",
            "1           Нет опыта   7197\n",
            "2       От 3 до 6 лет  14511\n",
            "3  От 1 года до 3 лет  26152\n"
          ]
        }
      ],
      "source": [
        "query_4_5 = f'''select v1.experience, count(v1.id) count\n",
        "           from  vacancies v1\n",
        "           group by v1.experience\n",
        "           order by count\n",
        "        '''\n",
        "df = pd.read_sql_query(query_4_5, connection)\n",
        "print(df.head())"
      ]
    },
    {
      "cell_type": "markdown",
      "id": "oq2b7n1QpIka",
      "metadata": {
        "id": "oq2b7n1QpIka"
      },
      "source": [
        "***"
      ]
    },
    {
      "attachments": {},
      "cell_type": "markdown",
      "id": "025c29df",
      "metadata": {},
      "source": [
        "### Проведя более детальный анализ данных, можно сказать следующее:\n",
        "- Больше всего вакансий приходятся на города: Москва, Санкт-Петербург, Минск, что не удивительно, потому что Москва и СПб являются самыми населёнными городами России, а также экономическими центрами страны, как и Минск столица и крупнейший город Республики Беларусь.\n",
        "- Интересно также то, что только примерно у половины вакансий указаны зарплаты. Можно предположить, что работодатели не хотят заранее отталкивать потенциальных работников низкой зарплатой. Или же зарплата на этих местах сдельная и сильно варьируется. Также работодатель может проверить, насколько соискатель заинтересован в данной вакансии, несмотря на зарплату.\n",
        "- Средний разброс заработной платы 71065 - 110537 рублей, что намного выше средней зарплаты по России. Исходя из собственного опыта по поиску работы, могу предположить, что на hh.ru выкладывают вакансии с высокими требованиями и высокими должностями, где требуется определённое образование и навыки, за которые работодатель готов много платить. На других же сайтах (например, зарплата.ру, работа.ру) выкладывают вакансии с меньшими требованиями и соответственно меньшей зарплатой.\n",
        "- По занятости можно сказать, что больше работодатели ищут работников с полной занятостью и полным рабочим днём или удалнной работой. Компании важно, чтобы работник находился непосредственно на месте работы, и это была его основное место, а не подработка.\n",
        "- Больше всего работодатели требуют опыт работы от года до трёх и то трёх до шести лет. А вот с более шестилетним опытом работы вакансий меньше всего. Можно предположить, что и соискателей с шестилетним опытом меньше всего, как и должностей. Скорее всего, это высокие важные должности, которых в любой компании меньше, чем низкооплачиваемых. Также возможно, что при большом опыте работы работодателю придётся долго переучивать нового сотрудника, потому что он уже привык за шесть лет на старой работе делать свою работу определённым образом, который может быть уже не актуален или просто неподходящим для нового работодателя."
      ]
    },
    {
      "attachments": {},
      "cell_type": "markdown",
      "id": "7ea20ab6-04a7-40a0-adec-443a0e5a42c3",
      "metadata": {
        "id": "7ea20ab6-04a7-40a0-adec-443a0e5a42c3"
      },
      "source": [
        "# Анализ работодателей"
      ]
    },
    {
      "attachments": {},
      "cell_type": "markdown",
      "id": "968aed80-74ef-4ffb-b5bf-c65b84e9caea",
      "metadata": {
        "id": "968aed80-74ef-4ffb-b5bf-c65b84e9caea"
      },
      "source": [
        "1. Какие работодатели находятся на первом и пятом месте по количеству вакансий."
      ]
    },
    {
      "cell_type": "code",
      "execution_count": 45,
      "id": "f2d62796-d400-4ec1-a675-88112739a50e",
      "metadata": {
        "id": "f2d62796-d400-4ec1-a675-88112739a50e"
      },
      "outputs": [
        {
          "name": "stdout",
          "output_type": "stream",
          "text": [
            "    Работодатель  Количество вакансий\n",
            "0         Яндекс                 1933\n",
            "1     Ростелеком                  491\n",
            "2       Тинькофф                  444\n",
            "3           СБЕР                  428\n",
            "4  Газпром нефть                  331\n",
            " Первое место - Яндекс, пятое место - Газпром нефть\n"
          ]
        }
      ],
      "source": [
        "query_5_1 = f'''select e.name \"Работодатель\", count(v.id) \"Количество вакансий\"\n",
        "           from VACANCIES v \n",
        "           join EMPLOYERS e on e.id = v.employer_id\n",
        "           group by \"Работодатель\"\n",
        "           order by \"Количество вакансий\" desc\n",
        "        '''\n",
        "df = pd.read_sql_query(query_5_1, connection)\n",
        "print(df.head())\n",
        "print(f\" Первое место - {df['Работодатель'][0]}, пятое место - {df['Работодатель'][4]}\")\n",
        "           "
      ]
    },
    {
      "attachments": {},
      "cell_type": "markdown",
      "id": "68377cfc-b378-43dc-ab7d-1195abf2c515",
      "metadata": {
        "id": "68377cfc-b378-43dc-ab7d-1195abf2c515"
      },
      "source": [
        "2. Количество работодателей и вакансий для каждого региона .\n",
        "Среди регионов, в которых нет вакансий, найти тот, в котором наибольшее количество работодателей.\n"
      ]
    },
    {
      "cell_type": "code",
      "execution_count": 46,
      "id": "dd7df27a-e3e8-412e-a21a-5d389b71e891",
      "metadata": {
        "id": "dd7df27a-e3e8-412e-a21a-5d389b71e891"
      },
      "outputs": [
        {
          "name": "stdout",
          "output_type": "stream",
          "text": [
            "               Регион  Количество работодателей  Количество вакансий\n",
            "0              Россия                       410                    0\n",
            "1           Казахстан                       207                    0\n",
            "2  Московская область                        75                    0\n",
            "3  Краснодарский край                        19                    0\n",
            "4            Беларусь                        18                    0\n"
          ]
        }
      ],
      "source": [
        "query_5_2 = f'''select a.name \"Регион\", count(e.id) \"Количество работодателей\", count(v.id) \"Количество вакансий\"\n",
        "           from  areas a\n",
        "           full outer join VACANCIES v on v.area_id = a.id\n",
        "           full outer join EMPLOYERS e on a.id = e.area\n",
        "           where v.id is null\n",
        "           group by \"Регион\"\n",
        "           order by \"Количество работодателей\" desc\n",
        "        '''\n",
        "df = pd.read_sql_query(query_5_2, connection)\n",
        "print(df.head())\n",
        "           "
      ]
    },
    {
      "attachments": {},
      "cell_type": "markdown",
      "id": "f2fe0acb-ab1a-4e15-9326-2560e22d73c1",
      "metadata": {
        "id": "f2fe0acb-ab1a-4e15-9326-2560e22d73c1"
      },
      "source": [
        "3. Для каждого работодателя вывести количество регионов, в которых он публикует свои вакансии.\n"
      ]
    },
    {
      "cell_type": "code",
      "execution_count": 47,
      "id": "6271f8ad-bd2e-4196-ae4a-5b39c4c1010e",
      "metadata": {
        "id": "6271f8ad-bd2e-4196-ae4a-5b39c4c1010e"
      },
      "outputs": [
        {
          "name": "stdout",
          "output_type": "stream",
          "text": [
            "             Работодатель  Количество регионов\n",
            "0                  Яндекс                  181\n",
            "1              Ростелеком                  152\n",
            "2              Спецремонт                  116\n",
            "3  Поляков Денис Иванович                   88\n",
            "4               ООО ЕФИН                    71\n"
          ]
        }
      ],
      "source": [
        "query_5_3 = f'''select e.name \"Работодатель\", count(distinct a.name) \"Количество регионов\"\n",
        "           \n",
        "           from  EMPLOYERS e\n",
        "           join VACANCIES v on v.employer_id = e.id\n",
        "           join areas a on a.id = v.area_id\n",
        "           group by \"Работодатель\"\n",
        "           order by \"Количество регионов\" desc\n",
        "        '''\n",
        "df = pd.read_sql_query(query_5_3, connection)\n",
        "print(df.head())"
      ]
    },
    {
      "attachments": {},
      "cell_type": "markdown",
      "id": "eab2206d-d95b-468b-8e5f-34381abf0ce7",
      "metadata": {
        "id": "eab2206d-d95b-468b-8e5f-34381abf0ce7"
      },
      "source": [
        "4. Количество работодателей, у которых не указана сфера деятельности. "
      ]
    },
    {
      "cell_type": "code",
      "execution_count": 48,
      "id": "80defb23-bfb1-4a18-8be6-bf36aa7165d5",
      "metadata": {
        "id": "80defb23-bfb1-4a18-8be6-bf36aa7165d5"
      },
      "outputs": [
        {
          "name": "stdout",
          "output_type": "stream",
          "text": [
            "8419 работодателей, у которых не указана сфера деятельности\n"
          ]
        }
      ],
      "source": [
        "query_5_4 = f'''select count(e.id) str\n",
        "from EMPLOYERS_INDUSTRIES ei\n",
        "full outer join employers e on e.id = ei.employer_id\n",
        "where ei.employer_id is null\n",
        "        '''\n",
        "df = pd.read_sql_query(query_5_4, connection)\n",
        "print(df['str'][0], 'работодателей, у которых не указана сфера деятельности')"
      ]
    },
    {
      "attachments": {},
      "cell_type": "markdown",
      "id": "0112af31-f6b0-4e3b-82ab-71296e752e5e",
      "metadata": {
        "id": "0112af31-f6b0-4e3b-82ab-71296e752e5e"
      },
      "source": [
        "5. Название компании, находящейся на третьем месте в алфавитном списке (по названию) компаний, у которых указано четыре сферы деятельности. "
      ]
    },
    {
      "cell_type": "code",
      "execution_count": 49,
      "id": "973b0cfc-a972-470a-8b4a-68744ef220c4",
      "metadata": {
        "id": "973b0cfc-a972-470a-8b4a-68744ef220c4"
      },
      "outputs": [
        {
          "name": "stdout",
          "output_type": "stream",
          "text": [
            "  Работодатель с четырьмя сферами\n",
            "0                            2ГИС\n"
          ]
        }
      ],
      "source": [
        "query_5_5 = f'''select e.name \"Работодатель с четырьмя сферами\"\n",
        "from EMPLOYERS_INDUSTRIES ei\n",
        "full outer join employers e on e.id = ei.employer_id\n",
        "group by \"Работодатель с четырьмя сферами\"\n",
        "having count(ei.industry_id) = 4\n",
        "order by \"Работодатель с четырьмя сферами\"\n",
        "limit 1 offset 2\n",
        "        '''\n",
        "df = pd.read_sql_query(query_5_5, connection)\n",
        "print(df)"
      ]
    },
    {
      "attachments": {},
      "cell_type": "markdown",
      "id": "3bfcfdaf-755d-4d2b-8ed8-326201dc07ab",
      "metadata": {
        "id": "3bfcfdaf-755d-4d2b-8ed8-326201dc07ab"
      },
      "source": [
        "6. У какого количества работодателей в качестве сферы деятельности указана Разработка программного обеспечения.\n"
      ]
    },
    {
      "cell_type": "code",
      "execution_count": 50,
      "id": "ad3f270f-2991-47eb-929b-e8f88a55b0d1",
      "metadata": {
        "id": "ad3f270f-2991-47eb-929b-e8f88a55b0d1"
      },
      "outputs": [
        {
          "name": "stdout",
          "output_type": "stream",
          "text": [
            "3553 работодателей в сфере деятельности \"Разработка программного обеспечения\"\n"
          ]
        }
      ],
      "source": [
        "query_5_6 = f'''select count(e.id) str\n",
        "from EMPLOYERS_INDUSTRIES ei\n",
        "full outer join employers e on e.id = ei.employer_id\n",
        "full outer join industries i on i.id = ei.industry_id\n",
        "where i.name = 'Разработка программного обеспечения'\n",
        "\n",
        "        '''\n",
        "df = pd.read_sql_query(query_5_6, connection)\n",
        "print(df['str'][0], 'работодателей в сфере деятельности \"Разработка программного обеспечения\"')"
      ]
    },
    {
      "attachments": {},
      "cell_type": "markdown",
      "id": "7b02bb86-0546-40fb-94a4-242f050a5c57",
      "metadata": {
        "id": "7b02bb86-0546-40fb-94a4-242f050a5c57"
      },
      "source": [
        "7. Для компании «Яндекс» вывести список регионов-миллионников, в которых представлены вакансии компании, вместе с количеством вакансий в этих регионах. Также добавить строку Total с общим количеством вакансий компании. \n",
        "\n",
        "Список городов-милионников надо взять [отсюда](https://ru.wikipedia.org/wiki/%D0%93%D0%BE%D1%80%D0%BE%D0%B4%D0%B0-%D0%BC%D0%B8%D0%BB%D0%BB%D0%B8%D0%BE%D0%BD%D0%B5%D1%80%D1%8B_%D0%A0%D0%BE%D1%81%D1%81%D0%B8%D0%B8). \n"
      ]
    },
    {
      "cell_type": "code",
      "execution_count": 51,
      "id": "ZdfrL6gIs1Pn",
      "metadata": {
        "id": "ZdfrL6gIs1Pn"
      },
      "outputs": [],
      "source": [
        "url = 'https://ru.wikipedia.org/wiki/%D0%93%D0%BE%D1%80%D0%BE%D0%B4%D0%B0-%D0%BC%D0%B8%D0%BB%D0%BB%D0%B8%D0%BE%D0%BD%D0%B5%D1%80%D1%8B_%D0%A0%D0%BE%D1%81%D1%81%D0%B8%D0%B8' # ссылка на таблицу городов-миллионников\n",
        "million_city = pd.read_html(url)[1] # выбираем вторую таблицу на странице\n",
        "million_city = list(million_city['Город']) # получаем список городов-миллионников\n",
        "million_city[13] = 'Воронеж' # редактируем название города Воронеж\n",
        "million_city = tuple(million_city) # кортеж, чтобы можно было вставить в запрос"
      ]
    },
    {
      "cell_type": "code",
      "execution_count": 52,
      "id": "c8fdee96",
      "metadata": {},
      "outputs": [
        {
          "name": "stdout",
          "output_type": "stream",
          "text": [
            "              Город  Количество\n",
            "0              Омск        21.0\n",
            "1         Челябинск        22.0\n",
            "2        Красноярск        23.0\n",
            "3         Волгоград        24.0\n",
            "4             Пермь        25.0\n",
            "5            Казань        25.0\n",
            "6    Ростов-на-Дону        25.0\n",
            "7               Уфа        26.0\n",
            "8            Самара        26.0\n",
            "9         Краснодар        30.0\n",
            "10          Воронеж        32.0\n",
            "11      Новосибирск        35.0\n",
            "12  Нижний Новгород        36.0\n",
            "13     Екатеринбург        39.0\n",
            "14  Санкт-Петербург        42.0\n",
            "15           Москва        54.0\n",
            "16            Total       485.0\n"
          ]
        }
      ],
      "source": [
        "query_5_7 = f'''with table1 as\n",
        "(select a.name \"Город\", count(v.id) as \"Количество\"\n",
        "from vacancies v\n",
        "join areas a on a.id = v.area_id\n",
        "join employers e on e.id = v.employer_id\n",
        "where e.name = 'Яндекс' and a.name in {million_city}\n",
        "group by \"Город\")\n",
        "\n",
        "select \"Город\", \"Количество\"\n",
        "from table1\n",
        "union\n",
        "select 'Total' as \"Город\", sum(\"Количество\") as \"Количество\"\n",
        "from table1\n",
        "order by \"Количество\"\n",
        "        '''\n",
        "df = pd.read_sql_query(query_5_7, connection)\n",
        "print(df)"
      ]
    },
    {
      "cell_type": "markdown",
      "id": "04966e40-3bc3-4dc8-9ba2-e80580ce3abc",
      "metadata": {
        "id": "04966e40-3bc3-4dc8-9ba2-e80580ce3abc"
      },
      "source": [
        "***"
      ]
    },
    {
      "attachments": {},
      "cell_type": "markdown",
      "id": "ac06463c",
      "metadata": {},
      "source": [
        "### Проведя анализ работодателей, можно наблюдать следующее:\n",
        "- Больше всего вакансий публикуют Яндекс, Ростелеком, Тинькофф, СБЕР, что вполне закономерно, потому что это одни из крупнейших компаний в России вцелом, но также они являются и IT компаниями - даже Сбер и Тинькофф можно считать IT, учитывая их развитие. В последние годы государство России вкладывает большие средства в развитие It-технологий в стране, всвязи с чем и наблюдается большое количество вакансий.\n",
        "- Вакансий нет в странах и регионах, что тоже логично, потому что обычно в вакансиях указывают город.\n",
        "- Среди количества регионов по вакансиям наблюдается подозрительная запись - Поляков Денис Иванович. Вряд ли один ИП может выложить вакансии в большем количестве регионов, чем Сбер или Тинькофф. Но возможно этот ИП ищет сотрудников на удалённую работу, поэтому ему не важно местонахождение потенциального работника, поэтому и выкладывает вакансии, в любых регионах.\n",
        "- У 8419 работодателей не указана сфера деятельности. Затрудняюсь придумать более менее достоверное объяснение, но либо это компании с очень широкой сферой деятельности, что невозможно описать её одним значением, либо они скрывают свою исинную деятельность.\n",
        "- По городам-миллионникам у компании Яндекс наблюдается та же картина, что и среди всех вакансий - больше всего в крупнейших городах: Москва, Санкт-Петербург, Екатеринбург  "
      ]
    },
    {
      "attachments": {},
      "cell_type": "markdown",
      "id": "b1ef156a-efcb-49ce-bb23-90763e7f35b2",
      "metadata": {
        "id": "b1ef156a-efcb-49ce-bb23-90763e7f35b2",
        "tags": []
      },
      "source": [
        "# Предметный анализ"
      ]
    },
    {
      "attachments": {},
      "cell_type": "markdown",
      "id": "b9cd50a0-992d-4988-8463-2b2b1c4629b4",
      "metadata": {
        "id": "b9cd50a0-992d-4988-8463-2b2b1c4629b4"
      },
      "source": [
        "1. Сколько вакансий имеет отношение к данным.\n",
        "\n",
        "Вакансия имеет отношение к данным, если в её названии содержатся слова 'data' или 'данн'."
      ]
    },
    {
      "cell_type": "code",
      "execution_count": 53,
      "id": "54ab0e50-c0f1-47cc-a54b-bc5c8bc363f9",
      "metadata": {
        "id": "54ab0e50-c0f1-47cc-a54b-bc5c8bc363f9"
      },
      "outputs": [
        {
          "name": "stdout",
          "output_type": "stream",
          "text": [
            "1771 вакансий\n"
          ]
        }
      ],
      "source": [
        "query_6_1 = f'''select count(name)||' вакансий' str\n",
        "from VACANCIES\n",
        "where (lower(name) like '%data%') or (lower(name) like '%данн%')\n",
        "        '''\n",
        "df = pd.read_sql_query(query_6_1, connection)\n",
        "print(df['str'][0])"
      ]
    },
    {
      "attachments": {},
      "cell_type": "markdown",
      "id": "4dea20cb-a36b-474a-a0b9-e08e8e3857a5",
      "metadata": {
        "id": "4dea20cb-a36b-474a-a0b9-e08e8e3857a5"
      },
      "source": [
        "2. Сколько есть подходящих вакансий для начинающего дата-сайентиста.\n",
        "\n",
        "Считаем вакансиями для специалистов уровня Junior следующие:\n",
        "* в названии есть слово 'junior' *или*\n",
        "* требуемый опыт — Нет опыта *или*\n",
        "* тип трудоустройства — Стажировка.\n",
        " "
      ]
    },
    {
      "cell_type": "code",
      "execution_count": 54,
      "id": "9c61b3c0-bb66-46c9-ae1e-81d3f5752b4a",
      "metadata": {
        "id": "9c61b3c0-bb66-46c9-ae1e-81d3f5752b4a"
      },
      "outputs": [
        {
          "name": "stdout",
          "output_type": "stream",
          "text": [
            "51 вакансия\n"
          ]
        }
      ],
      "source": [
        "query_6_2 = f'''\n",
        "select count(name)||' вакансия' str\n",
        "from VACANCIES\n",
        "where ((name ilike '%data scientist%') or \n",
        "(name ilike '%data science%') or\n",
        "(name ilike '%исследователь данных%')  or\n",
        "(name ilike '%machine learning%') or\n",
        "(name ilike '%машинн%обучен%') or\n",
        "((name) not like '%HTML%' and (name) like '%ML%'))\n",
        "and (name ilike '%junior%' or experience ilike '%нет опыта%' or employment ilike '%стажировка%')\n",
        "        '''\n",
        "df = pd.read_sql_query(query_6_2, connection)\n",
        "print(df['str'][0])"
      ]
    },
    {
      "attachments": {},
      "cell_type": "markdown",
      "id": "eedceb80-c5ca-480e-b27a-278dfb8b4438",
      "metadata": {
        "id": "eedceb80-c5ca-480e-b27a-278dfb8b4438"
      },
      "source": [
        "3. Сколько есть вакансий для DS, в которых в качестве ключевого навыка указан SQL или postgres.\n",
        "\n",
        "** Критерии для отнесения вакансии к DS указаны в предыдущем задании.*"
      ]
    },
    {
      "cell_type": "code",
      "execution_count": 55,
      "id": "69621713-0cc5-4f1b-a1d7-bb144fa6148c",
      "metadata": {
        "id": "69621713-0cc5-4f1b-a1d7-bb144fa6148c"
      },
      "outputs": [
        {
          "name": "stdout",
          "output_type": "stream",
          "text": [
            "201 вакансия\n"
          ]
        }
      ],
      "source": [
        "query_6_3 = f'''\n",
        "select count(name)||' вакансия' str\n",
        "from VACANCIES\n",
        "where ((name ilike '%data scientist%') or \n",
        "(name ilike '%data science%') or\n",
        "(name ilike '%исследователь данных%')  or\n",
        "(name ilike '%machine learning%') or\n",
        "(name ilike '%машинн%обучен%') or\n",
        "((name) not like '%HTML%' and (name) like '%ML%')) and \n",
        "(key_skills ilike '%SQL%' or key_skills ilike '%postgres%')\n",
        "        '''\n",
        "df = pd.read_sql_query(query_6_3, connection)\n",
        "print(df['str'][0])"
      ]
    },
    {
      "attachments": {},
      "cell_type": "markdown",
      "id": "1be1e9c6-37cf-4a5f-bfeb-04cab799dc80",
      "metadata": {
        "id": "1be1e9c6-37cf-4a5f-bfeb-04cab799dc80"
      },
      "source": [
        "4. Насколько популярен Python в требованиях работодателей к DS. Вычислить количество вакансий, в которых в качестве ключевого навыка указан Python."
      ]
    },
    {
      "cell_type": "code",
      "execution_count": 56,
      "id": "0036a355-9ccf-4564-8b01-73d8194297e7",
      "metadata": {
        "id": "0036a355-9ccf-4564-8b01-73d8194297e7"
      },
      "outputs": [
        {
          "name": "stdout",
          "output_type": "stream",
          "text": [
            "351 вакансия\n"
          ]
        }
      ],
      "source": [
        "query_6_4 = f'''\n",
        "select count(name)||' вакансия' str\n",
        "from VACANCIES\n",
        "where ((name ilike '%data scientist%') or \n",
        "(name ilike '%data science%') or\n",
        "(name ilike '%исследователь данных%')  or\n",
        "(name ilike '%machine learning%') or\n",
        "(name ilike '%машинн%обучен%') or\n",
        "((name) not like '%HTML%' and (name) like '%ML%')) and \n",
        "(key_skills ilike '%python%')\n",
        "        '''\n",
        "df = pd.read_sql_query(query_6_4, connection)\n",
        "print(df['str'][0])"
      ]
    },
    {
      "cell_type": "markdown",
      "id": "ec3c8db7-fa21-4a41-a994-1af63742a642",
      "metadata": {
        "id": "ec3c8db7-fa21-4a41-a994-1af63742a642"
      },
      "source": [
        "5. Сколько ключевых навыков в среднем указывают в вакансиях для DS?\n",
        "Ответ округлите до двух знаков после точки-разделителя."
      ]
    },
    {
      "cell_type": "code",
      "execution_count": 57,
      "id": "949132bc-d5b6-4611-8218-0b9a504d74f4",
      "metadata": {
        "id": "949132bc-d5b6-4611-8218-0b9a504d74f4"
      },
      "outputs": [
        {
          "name": "stdout",
          "output_type": "stream",
          "text": [
            "6.41 среднее число навыков\n"
          ]
        }
      ],
      "source": [
        "query_6_5 = f'''\n",
        "select round(avg(length(key_skills) - length(replace(key_skills, CHR(9), ''))+1), 2)||' среднее число навыков' str\n",
        "from VACANCIES\n",
        "where ((name ilike '%data scientist%') or \n",
        "(name ilike '%data science%') or\n",
        "(name ilike '%исследователь данных%')  or\n",
        "(name ilike '%machine learning%') or\n",
        "(name ilike '%машинн%обучен%') or\n",
        "((name) not like '%HTML%' and (name) like '%ML%'))\n",
        "and key_skills is not null\n",
        "\n",
        "        '''\n",
        "df = pd.read_sql_query(query_6_5, connection)\n",
        "print(df['str'][0])"
      ]
    },
    {
      "cell_type": "markdown",
      "id": "1041c17a-ca8f-4543-a0ca-32778914fb00",
      "metadata": {
        "id": "1041c17a-ca8f-4543-a0ca-32778914fb00"
      },
      "source": [
        "6. Напишите запрос, позволяющий вычислить, какую зарплату для DS в **среднем** указывают для каждого типа требуемого опыта (уникальное значение из поля *experience*). \n",
        "\n",
        "При решении задачи примите во внимание следующее:\n",
        "1. Рассматриваем только вакансии, у которых заполнено хотя бы одно из двух полей с зарплатой.\n",
        "2. Если заполнены оба поля с зарплатой, то считаем зарплату по каждой вакансии как сумму двух полей, делённую на 2. Если заполнено только одно из полей, то его и считаем зарплатой по вакансии.\n",
        "3. Если в расчётах участвует null, в результате он тоже даст null (посмотрите, что возвращает запрос select 1 + null). Чтобы избежать этой ситуацию, мы воспользуемся функцией [coalesce](https://postgrespro.ru/docs/postgresql/9.5/functions-conditional#functions-coalesce-nvl-ifnull), которая заменит null на значение, которое мы передадим. Например, посмотрите, что возвращает запрос `select 1 + coalesce(null, 0)`\n",
        "\n",
        "Выясните, на какую зарплату в среднем может рассчитывать дата-сайентист с опытом работы от 3 до 6 лет. Результат округлите до целого числа. "
      ]
    },
    {
      "cell_type": "code",
      "execution_count": 58,
      "id": "6a743d39-5204-48d3-8271-b9f88e68d40e",
      "metadata": {
        "id": "6a743d39-5204-48d3-8271-b9f88e68d40e"
      },
      "outputs": [
        {
          "name": "stdout",
          "output_type": "stream",
          "text": [
            "           experience  avg_salary\n",
            "0           Нет опыта     74643.0\n",
            "1  От 1 года до 3 лет    139675.0\n",
            "2       От 3 до 6 лет    243115.0\n"
          ]
        }
      ],
      "source": [
        "query_6_6 = f'''\n",
        "select distinct experience, round(avg(coalesce(((salary_from + salary_to)/2), salary_from, salary_to))) avg_salary\n",
        "from VACANCIES\n",
        "where ((name ilike '%data scientist%') or \n",
        "(name ilike '%data science%') or\n",
        "(name ilike '%исследователь данных%')  or\n",
        "(name ilike '%machine learning%') or\n",
        "(name ilike '%машинн%обучен%') or\n",
        "((name) not like '%HTML%' and (name) like '%ML%'))\n",
        "and\n",
        "(salary_from is not null or salary_to is not null)\n",
        "group by experience\n",
        "        '''\n",
        "df = pd.read_sql_query(query_6_6, connection)\n",
        "print(df)"
      ]
    },
    {
      "cell_type": "markdown",
      "id": "6a7892b4-4113-4746-adce-18aa2844f18e",
      "metadata": {
        "id": "6a7892b4-4113-4746-adce-18aa2844f18e"
      },
      "source": [
        "***"
      ]
    },
    {
      "cell_type": "code",
      "execution_count": 59,
      "id": "7a07bedc",
      "metadata": {},
      "outputs": [
        {
          "name": "stdout",
          "output_type": "stream",
          "text": [
            "           experience  count  count  count\n",
            "0         Более 6 лет     34      0      0\n",
            "1           Нет опыта     28      5      5\n",
            "2  От 1 года до 3 лет    223     22     20\n",
            "3       От 3 до 6 лет    195     19     19\n"
          ]
        }
      ],
      "source": [
        "query = f'''\n",
        "select distinct experience, count(experience), count(salary_from), count(salary_to)\n",
        "from VACANCIES\n",
        "where ((name ilike '%data scientist%') or \n",
        "(name ilike '%data science%') or\n",
        "(name ilike '%исследователь данных%')  or\n",
        "(name ilike '%machine learning%') or\n",
        "(name ilike '%машинн%обучен%') or\n",
        "((name) not like '%HTML%' and (name) like '%ML%'))\n",
        "group by experience\n",
        "        '''\n",
        "df = pd.read_sql_query(query, connection)\n",
        "print(df)"
      ]
    },
    {
      "attachments": {},
      "cell_type": "markdown",
      "id": "a5c15e3e",
      "metadata": {},
      "source": [
        "### Согласно предметному анализу:\n",
        "- Всего 1771 вакансий относятся к работе с данными, среди которых только 51 вакансия подходит для junior'а. закономерно, потому что работодателя выгоднее брать на работу middle или senior. Тем более сейчас достаточно много \"джунов\", которые сами активно ищут работу после IT курсов, и нет необходимости дополнительно выкладывать вакансии.\n",
        "- 201 вакансия по SQL, чо на мой взгяд мало, если основной анализ дата саентисты проводят через SQL.\n",
        "- 351 вакансия, то есть примерно пятая часть всех вакансий, связанных с данными требует знания Python. Это, наверное, вполне нормальное соотношение, учитывая, сколько всего ЯП используются для работы с данными\n",
        "- Среднее количестов навыков требуют больше шести, что довольно много, ведь аналист должен иметь большой объём знаний и навыков для работы с данными. Но за такую работу и платят соответственно - 75 тысяч без опыта, что почти в полтора раза больше средней зарплаты по России\n",
        "- Также интересное наблюдение, что для вакансий DS не указывают заработную плату при опыте работы более шести лет, хотя приэтом вакансий при этом условии больше, чем без опыта. Скорее всего З/П с большим опытом не указывают, потому что с таким опытным сотрудником договариваются о З/П уже при собеседовании, чтобы не раскрывать реальные цифры высокопоставленныз специалистов. Так же это работает на конкуренцию - если не указывать З/П у своей компании, то конкурент не узнает, за какую сумма он сможет переманить специалиста. Также З/П у вакансий без опыта указана только у пяти штук. Скорее всего, чтобы не отталкивать неопытных соискателей низкой зарплатой на старте."
      ]
    },
    {
      "attachments": {},
      "cell_type": "markdown",
      "id": "c0ED6fh7wiBT",
      "metadata": {
        "id": "c0ED6fh7wiBT"
      },
      "source": [
        "### Общий вывод по проекту\n",
        "- Для снижения нагрузки на вычислительные центрыи и упрощения анализа базы данных, мне кажется, можно удалить регионы с нулевым количестовм вакансий, если это не повредит другим данным.\n",
        "- Почти триста сфер деятельностей мне кажутся излишними. Можно сократить список на половину, объединив смежные сферы, что также упростит работу с данными.\n",
        "- Подготовив данные можно будет прогнозировать зарплаты для вакансий, где они не указаны, потому что в данный момент половина вакансий без З/П.\n",
        "- На мой взгляд, следует детальнее изучить работодателей, которые находятся в топе списка по количеству разных регионов, где они выкладывали свои вакансии. Особенно небольшие частные компании и ИП.\n",
        "- Так как в столицах - Москва, Санкт-Петербург, Минск - и других крупных городах больше всего вакансий почти при любых условиях фильтрации, то можно рассматривать их отдельно при учёте средних заработных плат и других параметров. Также в столицах можно изучить зависимость количества вакансий, зарплат и прочих показателей в зависимости от района, удалённости от центра и станций метро, добавив эти данные в базу данных."
      ]
    }
  ],
  "metadata": {
    "colab": {
      "collapsed_sections": [
        "8d62a9f3-f64e-4fe7-bdac-c4dffa16155e"
      ],
      "provenance": []
    },
    "kernelspec": {
      "display_name": "Python 3 (ipykernel)",
      "language": "python",
      "name": "python3"
    },
    "language_info": {
      "codemirror_mode": {
        "name": "ipython",
        "version": 3
      },
      "file_extension": ".py",
      "mimetype": "text/x-python",
      "name": "python",
      "nbconvert_exporter": "python",
      "pygments_lexer": "ipython3",
      "version": "3.11.1"
    }
  },
  "nbformat": 4,
  "nbformat_minor": 5
}
